{
 "cells": [
  {
   "cell_type": "markdown",
   "id": "0ad20599-8a15-4455-922d-29b6efde3910",
   "metadata": {},
   "source": [
    "# A simple BCH error correction tutorial (python)"
   ]
  },
  {
   "cell_type": "markdown",
   "id": "15174d1b-eeaf-4084-861b-39241b39c0f4",
   "metadata": {},
   "source": [
    "### Import libraries"
   ]
  },
  {
   "cell_type": "code",
   "execution_count": 3,
   "id": "87ee0fe6-46e4-448d-9b9a-9309b12b8320",
   "metadata": {},
   "outputs": [],
   "source": [
    "import bchlib\n",
    "import numpy as np\n",
    "import random"
   ]
  },
  {
   "cell_type": "markdown",
   "id": "c06b36d6-0fc7-4459-b58e-ac25d9748ca2",
   "metadata": {},
   "source": [
    "### Utility functions that convert bitstring <-> btyearray"
   ]
  },
  {
   "cell_type": "code",
   "execution_count": 4,
   "id": "214941f2-627d-4f4c-95ba-cc96ba5852d0",
   "metadata": {},
   "outputs": [],
   "source": [
    "def bitstring_to_bytearray(data):\n",
    "    is_first = True\n",
    "    \n",
    "    while len(data)%8!=0:\n",
    "        data = np.append(data,0)\n",
    "    while len(data) >=8:\n",
    "        substring = ''\n",
    "        for i in range(8):\n",
    "            substring += str(data[i])\n",
    "        \n",
    "        if is_first:\n",
    "            btye_array = bytearray([int(substring,2)])\n",
    "            is_first= False\n",
    "        \n",
    "        else:\n",
    "            btye_array += bytearray([int(substring,2)])\n",
    "        data = data[8:]\n",
    "        \n",
    "    if (list(data)):\n",
    "        substring = ''\n",
    "        for i in range(len(data)):\n",
    "            substring += str(data[i])\n",
    "                    \n",
    "    return btye_array"
   ]
  },
  {
   "cell_type": "code",
   "execution_count": 5,
   "id": "6f9314bf-fc70-4c0a-81d5-f3deb573bdd0",
   "metadata": {},
   "outputs": [],
   "source": [
    "def bytearray_to_bits(x):\n",
    "    result = []\n",
    "    for i in x:\n",
    "        bits = bin(i)[2:]\n",
    "        bits = '00000000'[len(bits):] + bits\n",
    "        result.extend([int(b) for b in bits])\n",
    "\n",
    "    return result"
   ]
  },
  {
   "cell_type": "markdown",
   "id": "6abfd7b7-25f3-4007-ac73-440d0280f47e",
   "metadata": {},
   "source": [
    "## Create a BCH module"
   ]
  },
  {
   "cell_type": "code",
   "execution_count": 6,
   "id": "d9553d5b-d3d7-4449-b911-417235db7a5d",
   "metadata": {},
   "outputs": [],
   "source": [
    "BCH_POLYNOMIAL = 8219\n",
    "BCH_BITS = 3\n",
    "bch = bchlib.BCH(BCH_POLYNOMIAL,BCH_BITS)"
   ]
  },
  {
   "cell_type": "markdown",
   "id": "f3b95c29-d7f4-4796-b0ec-c03859d1c211",
   "metadata": {},
   "source": [
    "### Create Sample Binary String"
   ]
  },
  {
   "cell_type": "markdown",
   "id": "5de84c6b-0b01-41b3-8a81-59d713b477fb",
   "metadata": {},
   "source": [
    "Generate a sample bit-string by using Numpy"
   ]
  },
  {
   "cell_type": "code",
   "execution_count": 7,
   "id": "8a49c57f-e3ba-4c67-b7a6-1880358091fb",
   "metadata": {},
   "outputs": [
    {
     "name": "stdout",
     "output_type": "stream",
     "text": [
      "[0 1 0 1 1 0 1 1 1 1 0 1 1 1 0 1 1 0 0 1 1 1 0 1 0 1 0 1 1 1]\n"
     ]
    }
   ],
   "source": [
    "length = 30\n",
    "data = np.random.choice([0,1], length)\n",
    "print(data)"
   ]
  },
  {
   "cell_type": "markdown",
   "id": "a3717751-1271-4a0e-a6c1-cfd19b9f0138",
   "metadata": {},
   "source": [
    "To encode ecc code, we should convert the bit-string to btyearray "
   ]
  },
  {
   "cell_type": "code",
   "execution_count": 8,
   "id": "459eed74-d0fe-4d71-8379-61ccb565daa5",
   "metadata": {},
   "outputs": [
    {
     "name": "stdout",
     "output_type": "stream",
     "text": [
      "bytearray(b'[\\xdd\\x9d\\\\')\n"
     ]
    }
   ],
   "source": [
    "barray = bitstring_to_bytearray(data)\n",
    "print(barray)"
   ]
  },
  {
   "cell_type": "markdown",
   "id": "691c1bf2-2357-4393-9694-4eebbe5dc2f0",
   "metadata": {},
   "source": [
    "To show the opposite side, we convert bit-string to bytearray"
   ]
  },
  {
   "cell_type": "code",
   "execution_count": 9,
   "id": "46d35c6d-e815-4ca7-9b74-a3738e0fd1dd",
   "metadata": {},
   "outputs": [
    {
     "name": "stdout",
     "output_type": "stream",
     "text": [
      "[0, 1, 0, 1, 1, 0, 1, 1, 1, 1, 0, 1, 1, 1, 0, 1, 1, 0, 0, 1, 1, 1, 0, 1, 0, 1, 0, 1, 1, 1, 0, 0]\n"
     ]
    }
   ],
   "source": [
    "bitstring = (bytearray_to_bits(barray))\n",
    "print(bitstring)"
   ]
  },
  {
   "cell_type": "markdown",
   "id": "7070cc44-71a4-4336-afea-61b427285b2d",
   "metadata": {},
   "source": [
    "## BCH encode.\n",
    "We leverage the BCH module for generate ECC (Error Correction Code).\n",
    "\n",
    "When we transmit the data, we generate the packet (data + ecc) for error correction."
   ]
  },
  {
   "cell_type": "code",
   "execution_count": 10,
   "id": "8a2f2f75-9115-4ca8-a82b-91d738a8433c",
   "metadata": {},
   "outputs": [],
   "source": [
    "ecc = bch.encode(barray)"
   ]
  },
  {
   "cell_type": "code",
   "execution_count": 11,
   "id": "bca02bd8-1e01-4bba-be1b-b27c007487df",
   "metadata": {},
   "outputs": [],
   "source": [
    "packet = barray + ecc"
   ]
  },
  {
   "cell_type": "code",
   "execution_count": 12,
   "id": "0dbde76b-d8f0-48fa-9bf1-39fe58c0e5db",
   "metadata": {},
   "outputs": [
    {
     "name": "stdout",
     "output_type": "stream",
     "text": [
      "bytearray(b'[\\xdd\\x9d\\\\\\x1d\\x8e\\x9d-\\xd0')\n"
     ]
    }
   ],
   "source": [
    "print(packet)"
   ]
  },
  {
   "cell_type": "markdown",
   "id": "ccef8cdd-84f1-4b6c-b0f4-7c45af19b364",
   "metadata": {},
   "source": [
    "## Simple packet error\n",
    "To test error correction, we artifically make a simple noise situation that some bits are changed to 1."
   ]
  },
  {
   "cell_type": "code",
   "execution_count": 13,
   "id": "33c6b976-d1b9-4d41-baed-fead56400cb6",
   "metadata": {},
   "outputs": [
    {
     "name": "stdout",
     "output_type": "stream",
     "text": [
      "64 th is changed to 1\n",
      "[0, 1, 0, 1, 1, 0, 1, 1, 1, 1, 0, 1, 1, 1, 0, 1, 1, 0, 0, 1, 1, 1, 0, 1, 0, 1, 0, 1, 1, 1, 0, 0, 0, 0, 0, 1, 1, 1, 0, 1, 1, 0, 0, 0, 1, 1, 1, 0, 1, 0, 0, 1, 1, 1, 0, 1, 0, 0, 1, 0, 1, 1, 0, 1, 1, 1, 0, 1, 0, 0, 0, 0]\n",
      "42 th is changed to 1\n",
      "[0, 1, 0, 1, 1, 0, 1, 1, 1, 1, 0, 1, 1, 1, 0, 1, 1, 0, 0, 1, 1, 1, 0, 1, 0, 1, 0, 1, 1, 1, 0, 0, 0, 0, 0, 1, 1, 1, 0, 1, 1, 0, 1, 0, 1, 1, 1, 0, 1, 0, 0, 1, 1, 1, 0, 1, 0, 0, 1, 0, 1, 1, 0, 1, 1, 1, 0, 1, 0, 0, 0, 0]\n",
      "20 th is changed to 1\n",
      "[0, 1, 0, 1, 1, 0, 1, 1, 1, 1, 0, 1, 1, 1, 0, 1, 1, 0, 0, 1, 1, 1, 0, 1, 0, 1, 0, 1, 1, 1, 0, 0, 0, 0, 0, 1, 1, 1, 0, 1, 1, 0, 1, 0, 1, 1, 1, 0, 1, 0, 0, 1, 1, 1, 0, 1, 0, 0, 1, 0, 1, 1, 0, 1, 1, 1, 0, 1, 0, 0, 0, 0]\n",
      "20 th is changed to 1\n",
      "[0, 1, 0, 1, 1, 0, 1, 1, 1, 1, 0, 1, 1, 1, 0, 1, 1, 0, 0, 1, 1, 1, 0, 1, 0, 1, 0, 1, 1, 1, 0, 0, 0, 0, 0, 1, 1, 1, 0, 1, 1, 0, 1, 0, 1, 1, 1, 0, 1, 0, 0, 1, 1, 1, 0, 1, 0, 0, 1, 0, 1, 1, 0, 1, 1, 1, 0, 1, 0, 0, 0, 0]\n",
      "40 th is changed to 1\n",
      "[0, 1, 0, 1, 1, 0, 1, 1, 1, 1, 0, 1, 1, 1, 0, 1, 1, 0, 0, 1, 1, 1, 0, 1, 0, 1, 0, 1, 1, 1, 0, 0, 0, 0, 0, 1, 1, 1, 0, 1, 1, 0, 1, 0, 1, 1, 1, 0, 1, 0, 0, 1, 1, 1, 0, 1, 0, 0, 1, 0, 1, 1, 0, 1, 1, 1, 0, 1, 0, 0, 0, 0]\n"
     ]
    }
   ],
   "source": [
    "error_occur = bytearray_to_bits(packet)\n",
    "for i in range(5):\n",
    "    r_number = random.randrange(0,len(error_occur))\n",
    "    error_occur[r_number] = 1\n",
    "    print(r_number,'th is changed to 1')\n",
    "    print(error_occur)\n",
    "transmitted = bitstring_to_bytearray(error_occur)"
   ]
  },
  {
   "cell_type": "markdown",
   "id": "6f0e8f6e-0eef-4b70-9596-4abb41d74ea5",
   "metadata": {},
   "source": [
    "# BCH Decode\n",
    "When the data is transmitted, we can correct the error by decoding. \n",
    "\n",
    "To decode, we use BCH module. The first element is data part, the second is ecc part. \n",
    "\n",
    "We can easily split these parts by silicing. "
   ]
  },
  {
   "cell_type": "code",
   "execution_count": 14,
   "id": "17cd1b58-c69f-4f33-94b4-02bb24c8ef4f",
   "metadata": {},
   "outputs": [],
   "source": [
    "decoded = bch.decode(transmitted[:-len(ecc)],ecc)"
   ]
  },
  {
   "cell_type": "code",
   "execution_count": 15,
   "id": "37204276-6751-47ab-8bc6-35b38330767d",
   "metadata": {},
   "outputs": [
    {
     "name": "stdout",
     "output_type": "stream",
     "text": [
      "bytearray(b'[\\xdd\\x9d\\\\')\n"
     ]
    }
   ],
   "source": [
    "print(decoded[1])"
   ]
  },
  {
   "cell_type": "code",
   "execution_count": 16,
   "id": "eae95338-b1a0-4e31-a572-6e1a005a2f2c",
   "metadata": {},
   "outputs": [
    {
     "name": "stdout",
     "output_type": "stream",
     "text": [
      "[0, 1, 0, 1, 1, 0, 1, 1, 1, 1, 0, 1, 1, 1, 0, 1, 1, 0, 0, 1, 1, 1, 0, 1, 0, 1, 0, 1, 1, 1]\n"
     ]
    }
   ],
   "source": [
    "print(bytearray_to_bits(decoded[1])[:-2])"
   ]
  },
  {
   "cell_type": "code",
   "execution_count": 17,
   "id": "ffc1000c-caa8-4f81-ab36-3b89e94ca6f2",
   "metadata": {},
   "outputs": [
    {
     "name": "stdout",
     "output_type": "stream",
     "text": [
      "[0 1 0 1 1 0 1 1 1 1 0 1 1 1 0 1 1 0 0 1 1 1 0 1 0 1 0 1 1 1]\n"
     ]
    }
   ],
   "source": [
    "print(data)"
   ]
  },
  {
   "cell_type": "markdown",
   "id": "5d2f054d-6ee4-4841-95d2-facc79382a25",
   "metadata": {},
   "source": [
    "## Result"
   ]
  },
  {
   "cell_type": "code",
   "execution_count": 18,
   "id": "99935ad3-722c-43f1-b4d6-5e353089d098",
   "metadata": {},
   "outputs": [
    {
     "name": "stdout",
     "output_type": "stream",
     "text": [
      "0\n"
     ]
    }
   ],
   "source": [
    "xor = 0\n",
    "for idx in range(len(data)):\n",
    "    if data[idx] != bytearray_to_bits(decoded[1])[:-2][idx]:\n",
    "        xor+=1\n",
    "print(xor)"
   ]
  }
 ],
 "metadata": {
  "kernelspec": {
   "display_name": "Python 3 (ipykernel)",
   "language": "python",
   "name": "python3"
  },
  "language_info": {
   "codemirror_mode": {
    "name": "ipython",
    "version": 3
   },
   "file_extension": ".py",
   "mimetype": "text/x-python",
   "name": "python",
   "nbconvert_exporter": "python",
   "pygments_lexer": "ipython3",
   "version": "3.7.13"
  }
 },
 "nbformat": 4,
 "nbformat_minor": 5
}
